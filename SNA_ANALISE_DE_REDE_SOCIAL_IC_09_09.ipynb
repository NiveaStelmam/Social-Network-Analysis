{
  "nbformat": 4,
  "nbformat_minor": 0,
  "metadata": {
    "colab": {
      "provenance": []
    },
    "kernelspec": {
      "name": "python3",
      "display_name": "Python 3"
    },
    "language_info": {
      "name": "python"
    }
  },
  "cells": [
    {
      "cell_type": "code",
      "source": [
        "users = [\n",
        "    \n",
        "     {'id': 0, 'name': 'Floki'},\n",
        "     {'id': 1, 'name': 'Tom'},\n",
        "     {'id': 2, 'name': 'Agata'},\n",
        "     {'id': 3, 'name': 'Adriano'},\n",
        "     {'id': 4, 'name': 'Mariana'},\n",
        "     {'id': 5, 'name': 'Nivea'},\n",
        "     {'id': 6, 'name': 'Isabella'},\n",
        "     {'id': 7, 'name': 'Alexia'},\n",
        "     {'id': 8, 'name': 'Loki'} ,\n",
        "     {'id': 9, 'name': 'Luigi'},\n",
        "     \n",
        "]"
      ],
      "metadata": {
        "id": "ivJ9BlIuH7ZC"
      },
      "execution_count": 1,
      "outputs": []
    },
    {
      "cell_type": "code",
      "source": [
        "friendships = [\n",
        "    (0,1), (0,2), (1,2), (1,3), (2,3), (3,4),\n",
        "    (4,5), (5,6), (5,7), (6,8), (7,8), (8,9)\n",
        "]"
      ],
      "metadata": {
        "id": "AiumqGjUI135"
      },
      "execution_count": 2,
      "outputs": []
    },
    {
      "cell_type": "code",
      "source": [
        "for user in users: # para cada usuário na lista usuario  (user é um dicionario)\n",
        "  user['friends'] = []\n"
      ],
      "metadata": {
        "id": "LYAB-DTcJ07E"
      },
      "execution_count": 3,
      "outputs": []
    },
    {
      "cell_type": "code",
      "source": [
        "for i, j in friendships:\n",
        "  users[i]['friends'].append(users[j])\n",
        "  users[j]['friends'].append(users[i])"
      ],
      "metadata": {
        "id": "uTKckHLSK7Un"
      },
      "execution_count": 4,
      "outputs": []
    },
    {
      "cell_type": "code",
      "source": [
        "def number_of_friends(user): \n",
        "  return len(user['friends'])"
      ],
      "metadata": {
        "id": "5FSB6ctSOxjG"
      },
      "execution_count": 5,
      "outputs": []
    },
    {
      "cell_type": "code",
      "source": [
        "total_connections = sum(number_of_friends(user) \n",
        "                        for user in users)\n",
        "print(total_connections)"
      ],
      "metadata": {
        "colab": {
          "base_uri": "https://localhost:8080/"
        },
        "id": "juLw409hPjyp",
        "outputId": "2f6d62cf-d4ca-46a1-a0f5-bb83445c758d"
      },
      "execution_count": 6,
      "outputs": [
        {
          "output_type": "stream",
          "name": "stdout",
          "text": [
            "24\n"
          ]
        }
      ]
    }
  ]
}